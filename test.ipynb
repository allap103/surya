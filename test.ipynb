{
 "cells": [
  {
   "cell_type": "code",
   "execution_count": 2,
   "metadata": {},
   "outputs": [
    {
     "name": "stdout",
     "output_type": "stream",
     "text": [
      "Loaded table recognition model vikp/surya_tablerec on device cpu with dtype torch.float32\n"
     ]
    }
   ],
   "source": [
    "from surya.tables import batch_table_recognition\n",
    "from surya.detection import batch_text_detection\n",
    "from surya.model.table_rec.model import load_model as load_model\n",
    "from surya.model.table_rec.processor import load_processor\n",
    "from surya.layout import batch_layout_detection\n",
    "from surya.model.layout.model import load_model as load_layout_model\n",
    "from surya.model.layout.processor import load_processor as load_layout_processor\n",
    "from surya.model.detection.model import load_model as load_det_model, load_processor as load_det_processor\n",
    "from surya.input.pdflines import get_table_blocks\n",
    "from surya.postprocessing.util import rescale_bbox\n",
    "from PIL import Image\n",
    "import fitz\n",
    "\n",
    "model = load_model()\n",
    "processor = load_processor()\n",
    "\n",
    "\n",
    "\n",
    "# get image of the first page\n",
    "path = \"C:/Users/aless/Downloads/Test.pdf\"\n",
    "doc = fitz.open(path)\n",
    "page = doc[0]\n",
    "#load page into PIL\n",
    "image = page.get_pixmap(dpi=96)\n",
    "image = Image.frombytes(\"RGB\", [image.width, image.height], image.samples)\n",
    "images = [image]\n",
    "highres_image = page.get_pixmap(dpi=192)\n",
    "highres_image = Image.frombytes(\"RGB\", [highres_image.width, highres_image.height], highres_image.samples)\n",
    "highres_images = [highres_image]\n"
   ]
  },
  {
   "cell_type": "code",
   "execution_count": 3,
   "metadata": {},
   "outputs": [
    {
     "data": {
      "text/plain": [
       "([<PIL.Image.Image image mode=RGB size=794x1123>], ['Test'], [None])"
      ]
     },
     "execution_count": 3,
     "metadata": {},
     "output_type": "execute_result"
    }
   ],
   "source": []
  },
  {
   "cell_type": "code",
   "execution_count": null,
   "metadata": {},
   "outputs": [],
   "source": [
    "\n",
    "layout_model = load_layout_model()\n",
    "layout_processor = load_layout_processor()\n",
    "\n",
    "det_model = load_det_model()\n",
    "det_processor = load_det_processor()\n",
    "\n",
    "layout_predictions = batch_layout_detection(images, layout_model, layout_processor)\n",
    "table_cells = []\n",
    "\n",
    "table_imgs = []\n",
    "table_counts = []\n",
    "text_lines = [None]\n",
    "for layout_pred, text_line, img, highres_img in zip(layout_predictions, text_lines, images, highres_images):\n",
    "    # The table may already be cropped\n",
    "\n",
    "    # The bbox for the entire table\n",
    "    bbox = [l.bbox for l in layout_pred.bboxes if l.label == \"Table\"]\n",
    "    # Number of tables per page\n",
    "    table_counts.append(len(bbox))\n",
    "\n",
    "    if len(bbox) == 0:\n",
    "        continue\n",
    "\n",
    "    page_table_imgs = []\n",
    "    highres_bbox = []\n",
    "    for bb in bbox:\n",
    "        highres_bb = rescale_bbox(bb, img.size, highres_img.size)\n",
    "        page_table_imgs.append(highres_img.crop(highres_bb))\n",
    "        highres_bbox.append(highres_bb)\n",
    "\n",
    "    table_imgs.extend(page_table_imgs)\n",
    "\n",
    "    # The text cells inside each table\n",
    "    table_blocks = get_table_blocks(highres_bbox, text_line, highres_img.size) if text_line is not None else None\n",
    "\n",
    "    det_results = batch_text_detection(page_table_imgs, det_model, det_processor)\n",
    "    cell_bboxes = [[{\"bbox\": tb.bbox, \"text\": None} for tb in det_result.bboxes] for det_result in det_results]\n",
    "    table_cells.extend(cell_bboxes)\n"
   ]
  },
  {
   "cell_type": "code",
   "execution_count": 12,
   "metadata": {},
   "outputs": [],
   "source": [
    "\n"
   ]
  },
  {
   "cell_type": "code",
   "execution_count": null,
   "metadata": {},
   "outputs": [],
   "source": [
    "table_preds = batch_table_recognition([image], table_cells, model, processor)"
   ]
  }
 ],
 "metadata": {
  "kernelspec": {
   "display_name": "surya",
   "language": "python",
   "name": "python3"
  },
  "language_info": {
   "codemirror_mode": {
    "name": "ipython",
    "version": 3
   },
   "file_extension": ".py",
   "mimetype": "text/x-python",
   "name": "python",
   "nbconvert_exporter": "python",
   "pygments_lexer": "ipython3",
   "version": "3.12.7"
  }
 },
 "nbformat": 4,
 "nbformat_minor": 2
}
